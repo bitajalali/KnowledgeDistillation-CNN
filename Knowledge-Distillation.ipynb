{
  "nbformat": 4,
  "nbformat_minor": 0,
  "metadata": {
    "colab": {
      "provenance": []
    },
    "kernelspec": {
      "name": "python3",
      "display_name": "Python 3"
    },
    "language_info": {
      "name": "python"
    }
  },
  "cells": [
    {
      "cell_type": "code",
      "execution_count": null,
      "metadata": {
        "id": "OXC9Y2NZyv-O"
      },
      "outputs": [],
      "source": [
        "import os\n",
        "import yaml\n",
        "import torch\n",
        "import torch.nn as nn\n",
        "import torch.optim as optim\n",
        "import torch.nn.functional as F\n",
        "import torchmetrics\n",
        "from torch.utils.data import DataLoader\n",
        "from torchvision import datasets, transforms\n",
        "from torch.utils.tensorboard import SummaryWriter\n",
        "\n",
        "# Configurations\n",
        "CONFIG = {\n",
        "    'data': {\n",
        "        'train_dir': 'data/train',\n",
        "        'test_dir': 'data/test',\n",
        "        'batch_size': 128\n",
        "    },\n",
        "    'model': {\n",
        "        'num_classes': 10\n",
        "    },\n",
        "    'training': {\n",
        "        'epochs': 50,\n",
        "        'learning_rate': 0.1,\n",
        "        'momentum': 0.9,\n",
        "        'weight_decay': 5e-4,\n",
        "        'alpha': 0.5,\n",
        "        'temperature': 3.0\n",
        "    },\n",
        "    'logging': {\n",
        "        'log_dir': 'logs'\n",
        "    }\n",
        "}\n",
        "\n",
        "device = 'cuda' if torch.cuda.is_available() else 'cpu'\n"
      ]
    },
    {
      "cell_type": "markdown",
      "source": [
        "\n",
        "# Teacher model"
      ],
      "metadata": {
        "id": "4xSc3rC-IiFl"
      }
    },
    {
      "cell_type": "code",
      "source": [
        "# Teacher Model\n",
        "class TeacherNet(nn.Module):\n",
        "    def __init__(self, num_classes=10):\n",
        "        super(TeacherNet, self).__init__()\n",
        "        self.conv1 = nn.Conv2d(3, 64, kernel_size=3, padding=1)\n",
        "        self.conv2 = nn.Conv2d(64, 128, kernel_size=3, padding=1)\n",
        "        self.conv3 = nn.Conv2d(128, 256, kernel_size=3, padding=1)\n",
        "        self.res_block1 = nn.Sequential(\n",
        "            nn.Conv2d(256, 256, kernel_size=3, padding=1),\n",
        "            nn.BatchNorm2d(256),\n",
        "            nn.ReLU(),\n",
        "            nn.Conv2d(256, 256, kernel_size=3, padding=1),\n",
        "            nn.BatchNorm2d(256)\n",
        "        )\n",
        "        self.fc1 = nn.Linear(256 * 4 * 4, 512)\n",
        "        self.fc2 = nn.Linear(512, num_classes)\n",
        "        self.pool = nn.MaxPool2d(2, 2)\n",
        "\n",
        "    def forward(self, x):\n",
        "        x = self.pool(F.relu(self.conv1(x)))\n",
        "        x = self.pool(F.relu(self.conv2(x)))\n",
        "        x = self.pool(F.relu(self.conv3(x)))\n",
        "        x = self.res_block1(x) + x\n",
        "        x = x.view(-1, 256 * 4 * 4)\n",
        "        x = F.relu(self.fc1(x))\n",
        "        x = self.fc2(x)\n",
        "        return x"
      ],
      "metadata": {
        "id": "azTXI0t-IpqC"
      },
      "execution_count": null,
      "outputs": []
    },
    {
      "cell_type": "markdown",
      "source": [
        "# Student Model"
      ],
      "metadata": {
        "id": "L0LqUQgZIuuJ"
      }
    },
    {
      "cell_type": "code",
      "source": [
        "# Student Model\n",
        "class StudentNet(nn.Module):\n",
        "    def __init__(self, num_classes=10):\n",
        "        super(StudentNet, self).__init__()\n",
        "        self.conv1 = nn.Conv2d(3, 32, kernel_size=3, padding=1)\n",
        "        self.conv2 = nn.Conv2d(32, 64, kernel_size=3, padding=1)\n",
        "        self.conv3 = nn.Conv2d(64, 128, kernel_size=3, padding=1)\n",
        "        self.res_block = nn.Sequential(\n",
        "            nn.Conv2d(128, 128, kernel_size=3, padding=1),\n",
        "            nn.BatchNorm2d(128),\n",
        "            nn.ReLU(),\n",
        "            nn.Conv2d(128, 128, kernel_size=3, padding=1),\n",
        "            nn.BatchNorm2d(128)\n",
        "        )\n",
        "        self.fc1 = nn.Linear(128 * 8 * 8, 256)\n",
        "        self.fc2 = nn.Linear(256, num_classes)\n",
        "        self.pool = nn.MaxPool2d(2, 2)\n",
        "\n",
        "    def forward(self, x):\n",
        "        x = self.pool(F.relu(self.conv1(x)))\n",
        "        x = self.pool(F.relu(self.conv2(x)))\n",
        "        x = self.pool(F.relu(self.conv3(x)))\n",
        "        x = self.res_block(x) + x\n",
        "        x = x.view(-1, 128 * 8 * 8)\n",
        "        x = F.relu(self.fc1(x))\n",
        "        x = self.fc2(x)\n",
        "        return x"
      ],
      "metadata": {
        "id": "MtvuLc-RIxNd"
      },
      "execution_count": null,
      "outputs": []
    },
    {
      "cell_type": "markdown",
      "source": [
        "# Knowledge distilation loss"
      ],
      "metadata": {
        "id": "0a-HjCloI2VK"
      }
    },
    {
      "cell_type": "code",
      "source": [
        "\n",
        "\n",
        "# Knowledge Distillation Loss\n",
        "def loss_fn_kd(outputs, labels, teacher_outputs, alpha=0.5, T=3.0):\n",
        "    return nn.KLDivLoss()(F.log_softmax(outputs / T, dim=1),\n",
        "                          F.softmax(teacher_outputs / T, dim=1)) * (alpha * T * T) + \\\n",
        "           F.cross_entropy(outputs, labels) * (1. - alpha)"
      ],
      "metadata": {
        "id": "i8wRUT6xI67v"
      },
      "execution_count": null,
      "outputs": []
    },
    {
      "cell_type": "markdown",
      "source": [
        "#Load Data"
      ],
      "metadata": {
        "id": "XYNk4r4XJIAk"
      }
    },
    {
      "cell_type": "code",
      "source": [
        "\n",
        "# Load Data\n",
        "def get_dataloaders(train_dir, test_dir, batch_size):\n",
        "    transform = transforms.Compose([\n",
        "        transforms.Resize((32, 32)),\n",
        "        transforms.RandomHorizontalFlip(),\n",
        "        transforms.ToTensor(),\n",
        "        transforms.Normalize((0.5, 0.5, 0.5), (0.5, 0.5, 0.5)),\n",
        "    ])\n",
        "    train_dataset = datasets.ImageFolder(root=train_dir, transform=transform)\n",
        "    test_dataset = datasets.ImageFolder(root=test_dir, transform=transform)\n",
        "    train_loader = DataLoader(train_dataset, batch_size=batch_size, shuffle=True)\n",
        "    test_loader = DataLoader(test_dataset, batch_size=batch_size, shuffle=False)\n",
        "    return train_loader, test_loader\n"
      ],
      "metadata": {
        "id": "3BrPtnqDJEHk"
      },
      "execution_count": null,
      "outputs": []
    },
    {
      "cell_type": "markdown",
      "source": [
        "#Training Loop"
      ],
      "metadata": {
        "id": "ribH6LjsJOfu"
      }
    },
    {
      "cell_type": "code",
      "source": [
        "# Training Loop\n",
        "def train():\n",
        "    train_loader, test_loader = get_dataloaders(CONFIG['data']['train_dir'], CONFIG['data']['test_dir'], CONFIG['data']['batch_size'])\n",
        "    teacher = TeacherNet(num_classes=CONFIG['model']['num_classes']).to(device)\n",
        "    student = StudentNet(num_classes=CONFIG['model']['num_classes']).to(device)\n",
        "    optimizer = optim.SGD(student.parameters(),\n",
        "                          lr=CONFIG['training']['learning_rate'],\n",
        "                          momentum=CONFIG['training']['momentum'],\n",
        "                          weight_decay=CONFIG['training']['weight_decay'])\n",
        "    scheduler = torch.optim.lr_scheduler.CosineAnnealingLR(optimizer, T_max=CONFIG['training']['epochs'])\n",
        "    writer = SummaryWriter(log_dir=CONFIG['logging']['log_dir'])\n",
        "\n",
        "    for epoch in range(CONFIG['training']['epochs']):\n",
        "        student.train()\n",
        "        accuracy = torchmetrics.Accuracy().to(device)\n",
        "        for inputs, targets in train_loader:\n",
        "            inputs, targets = inputs.to(device), targets.to(device)\n",
        "            optimizer.zero_grad()\n",
        "            student_outputs = student(inputs)\n",
        "            with torch.no_grad():\n",
        "                teacher_outputs = teacher(inputs)\n",
        "            loss = loss_fn_kd(student_outputs, targets, teacher_outputs, alpha=CONFIG['training']['alpha'], T=CONFIG['training']['temperature'])\n",
        "            loss.backward()\n",
        "            optimizer.step()\n",
        "            accuracy(student_outputs.softmax(dim=-1), targets)\n",
        "\n",
        "        print(f\"Epoch [{epoch + 1}/{CONFIG['training']['epochs']}], Loss: {loss.item():.4f}, Accuracy: {accuracy.compute():.4f}\")\n",
        "        scheduler.step()\n",
        "\n",
        "    writer.close()\n",
        "\n",
        "if __name__ == \"__main__\":\n",
        "    train()"
      ],
      "metadata": {
        "id": "EFo7_MyWJOwa"
      },
      "execution_count": null,
      "outputs": []
    }
  ]
}